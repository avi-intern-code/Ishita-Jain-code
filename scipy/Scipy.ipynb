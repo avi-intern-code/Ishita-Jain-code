{
 "cells": [
  {
   "cell_type": "code",
   "execution_count": null,
   "metadata": {},
   "outputs": [],
   "source": [
    "import numpy as np\n",
    "from matplotlib import pyplot as plt\n",
    "\n",
    "random_image = np.random.random([500, 500])\n",
    "\n",
    "plt.imshow(random_image, cmap='gray')\n",
    "plt.colorbar();"
   ]
  },
  {
   "cell_type": "code",
   "execution_count": null,
   "metadata": {},
   "outputs": [],
   "source": [
    "from skimage import data\n",
    "\n",
    "coins = data.coins()\n",
    "\n",
    "print('Type:', type(coins))\n",
    "print('dtype:', coins.dtype)\n",
    "print('shape:', coins.shape)\n",
    "\n",
    "plt.imshow(coins, cmap='gray');"
   ]
  },
  {
   "cell_type": "code",
   "execution_count": null,
   "metadata": {},
   "outputs": [],
   "source": [
    "cat = data.chelsea()\n",
    "print(\"Shape:\", cat.shape)\n",
    "print(\"Values min/max:\", cat.min(), cat.max())\n",
    "\n",
    "plt.imshow(cat);"
   ]
  },
  {
   "cell_type": "code",
   "execution_count": null,
   "metadata": {},
   "outputs": [],
   "source": [
    "cat[10:110, 10:110, :] = [255, 0, 0]  \n",
    "plt.imshow(cat);"
   ]
  },
  {
   "cell_type": "code",
   "execution_count": null,
   "metadata": {},
   "outputs": [],
   "source": [
    "from skimage import data\n",
    "\n",
    "img0 = data.chelsea()\n",
    "img1 = data.rocket()"
   ]
  },
  {
   "cell_type": "code",
   "execution_count": null,
   "metadata": {},
   "outputs": [],
   "source": [
    "import matplotlib.pyplot as plt\n",
    "\n",
    "f, (ax0, ax1) = plt.subplots(1, 2, figsize=(20, 10))\n",
    "\n",
    "ax0.imshow(img0)\n",
    "ax0.set_title('Cat', fontsize=18)\n",
    "ax0.axis('off')\n",
    "\n",
    "ax1.imshow(img1)\n",
    "ax1.set_title('Rocket', fontsize=18)\n",
    "ax1.set_xlabel(r'Launching position $\\alpha=320$')\n",
    "\n",
    "ax1.vlines([202, 300], 0, img1.shape[0], colors='magenta', linewidth=3, label='Side tower position')\n",
    "ax1.plot([168, 190, 200], [400, 200, 300], color='white', linestyle='--', label='Side angle')\n",
    "\n",
    "ax1.legend();"
   ]
  },
  {
   "cell_type": "code",
   "execution_count": null,
   "metadata": {},
   "outputs": [],
   "source": [
    "linear0 = np.linspace(0, 1, 2500).reshape((50, 50))\n",
    "linear1 = np.linspace(0, 255, 2500).reshape((50, 50)).astype(np.uint8)\n",
    "\n",
    "print(\"Linear0:\", linear0.dtype, linear0.min(), linear0.max())\n",
    "print(\"Linear1:\", linear1.dtype, linear1.min(), linear1.max())\n",
    "\n",
    "fig, (ax0, ax1) = plt.subplots(1, 2, figsize=(15, 15))\n",
    "ax0.imshow(linear0, cmap='gray')\n",
    "ax1.imshow(linear1, cmap='gray');"
   ]
  },
  {
   "cell_type": "code",
   "execution_count": null,
   "metadata": {},
   "outputs": [],
   "source": [
    "from skimage import img_as_float, img_as_ubyte\n",
    "\n",
    "image = data.chelsea()\n",
    "\n",
    "image_ubyte = img_as_ubyte(image)\n",
    "image_float = img_as_float(image)\n",
    "\n",
    "print(\"type, min, max:\", image_ubyte.dtype, image_ubyte.min(), image_ubyte.max())\n",
    "print(\"type, min, max:\", image_float.dtype, image_float.min(), image_float.max())\n",
    "print()\n",
    "print(\"231/255 =\", 231/255.)"
   ]
  },
  {
   "cell_type": "code",
   "execution_count": null,
   "metadata": {},
   "outputs": [],
   "source": [
    "from skimage import io\n",
    "ic = io.ImageCollection('../images/*.png:../images/*.jpg')\n",
    "\n",
    "print('Type:', type(ic))\n",
    "\n",
    "ic.files"
   ]
  },
  {
   "cell_type": "code",
   "execution_count": null,
   "metadata": {},
   "outputs": [],
   "source": [
    "import os\n",
    "from matplotlib import pyplot as plt\n",
    "\n",
    "f, axes = plt.subplots(nrows=3, ncols=len(ic) // 3 + 1, figsize=(20, 5))\n",
    "\n",
    "# subplots returns the figure and an array of axes\n",
    "# we use `axes.ravel()` to turn these into a list\n",
    "axes = axes.ravel()\n",
    "\n",
    "for ax in axes:\n",
    "    ax.axis('off')\n",
    "\n",
    "for i, image in enumerate(ic):\n",
    "    axes[i].imshow(image, cmap='gray')\n",
    "    axes[i].set_title(os.path.basename(ic.files[i]))\n",
    "    \n",
    "plt.tight_layout()"
   ]
  },
  {
   "cell_type": "code",
   "execution_count": null,
   "metadata": {},
   "outputs": [],
   "source": [
    "animals = ['cat', 'dog', 'leopard']\n",
    "for i, animal in enumerate(animals):\n",
    "    print('The animal in position {} is {}'.format(i, animal))"
   ]
  },
  {
   "cell_type": "code",
   "execution_count": null,
   "metadata": {},
   "outputs": [],
   "source": [
    "def draw_H(image, coords, color=(0, 255, 0)):\n",
    "    out = image.copy()\n",
    "    \n",
    "    ...\n",
    "    \n",
    "    return out"
   ]
  },
  {
   "cell_type": "code",
   "execution_count": null,
   "metadata": {},
   "outputs": [],
   "source": [
    "cat = data.chelsea()\n",
    "cat_H = draw_H(cat, (50, -50))\n",
    "plt.imshow(cat_H);"
   ]
  },
  {
   "cell_type": "code",
   "execution_count": null,
   "metadata": {},
   "outputs": [],
   "source": [
    "image = plt.imread('C://Users//Ishita//tutorial//opencv-master//samples//data//HappyFish.jpg')\n",
    "\n",
    "r = ... \n",
    "g = ... \n",
    "b = ...\n",
    "f, axes = plt.subplots(1, 4, figsize=(16, 5))\n",
    "\n",
    "for ax in axes:\n",
    "    ax.axis('off')\n",
    "\n",
    "(ax_r, ax_g, ax_b, ax_color) = axes\n",
    "    \n",
    "ax_r.imshow(r, cmap='gray')\n",
    "ax_r.set_title('red channel')\n",
    "\n",
    "ax_g.imshow(g, cmap='gray')\n",
    "ax_g.set_title('green channel')\n",
    "\n",
    "ax_b.imshow(b, cmap='gray')\n",
    "ax_b.set_title('blue channel')\n",
    "\n",
    "ax_color.imshow(np.stack([r, g, b], axis=2))\n",
    "ax_color.set_title('all channels');"
   ]
  },
  {
   "cell_type": "code",
   "execution_count": null,
   "metadata": {},
   "outputs": [],
   "source": [
    "from skimage import color, img_as_float\n",
    "\n",
    "image = img_as_float(io.imread('C://Users//Ishita//tutorial//opencv-master//samples//data//HappyFish.jpg'))\n",
    "\n",
    "gray = color.rgb2gray(image)\n",
    "my_gray = ...  # FIXME\n",
    "\n",
    "\n",
    "\n",
    "f, (ax0, ax1) = plt.subplots(1, 2, figsize=(10, 6))\n",
    "\n",
    "ax0.imshow(gray, cmap='gray')\n",
    "ax0.set_title('skimage.color.rgb2gray')\n",
    "\n",
    "ax1.imshow(my_gray, cmap='gray')\n",
    "ax1.set_title('my rgb2gray')"
   ]
  },
  {
   "cell_type": "code",
   "execution_count": null,
   "metadata": {},
   "outputs": [],
   "source": [
    "%matplotlib inline\n",
    "%config InlineBackend.figure_format = 'retina'"
   ]
  },
  {
   "cell_type": "code",
   "execution_count": null,
   "metadata": {},
   "outputs": [],
   "source": [
    "import matplotlib.pyplot as plt\n",
    "import numpy as np\n",
    "\n",
    "plt.rcParams['image.cmap'] = 'gray'"
   ]
  },
  {
   "cell_type": "code",
   "execution_count": null,
   "metadata": {},
   "outputs": [],
   "source": [
    "step_signal = np.zeros(100)\n",
    "step_signal[50:] = 1\n",
    "fig, ax = plt.subplots()\n",
    "ax.plot(step_signal)\n",
    "ax.margins(y=0.1)"
   ]
  },
  {
   "cell_type": "code",
   "execution_count": null,
   "metadata": {},
   "outputs": [],
   "source": [
    "np.random.seed(0)\n",
    "\n",
    "\n",
    "noisy_signal = (step_signal\n",
    "                + np.random.normal(0, 0.35, step_signal.shape))\n",
    "fig, ax = plt.subplots()\n",
    "ax.plot(noisy_signal);"
   ]
  },
  {
   "cell_type": "code",
   "execution_count": null,
   "metadata": {},
   "outputs": [],
   "source": [
    "smooth_signal = (noisy_signal[:-1] + noisy_signal[1:]) / 2.0\n",
    "fig, ax = plt.subplots()\n",
    "ax.plot(smooth_signal);"
   ]
  },
  {
   "cell_type": "code",
   "execution_count": null,
   "metadata": {},
   "outputs": [],
   "source": [
    "smooth_signal3 = (noisy_signal[:-2] + noisy_signal[1:-1]\n",
    "                  + noisy_signal[2:]) / 3\n",
    "fig, ax = plt.subplots()\n",
    "ax.plot(smooth_signal, label='mean of 2')\n",
    "ax.plot(smooth_signal3, label='mean of 3')\n",
    "ax.legend(loc='upper left');"
   ]
  },
  {
   "cell_type": "code",
   "execution_count": null,
   "metadata": {},
   "outputs": [],
   "source": [
    "mean_kernel3 = np.full((3,), 1/3)\n",
    "smooth_signal3p = np.convolve(noisy_signal, mean_kernel3,\n",
    "                              mode='valid')\n",
    "fig, ax = plt.subplots()\n",
    "ax.plot(smooth_signal3p)\n",
    "\n",
    "print('smooth_signal3 and smooth_signal3p are equal:',\n",
    "      np.allclose(smooth_signal3, smooth_signal3p))"
   ]
  },
  {
   "cell_type": "code",
   "execution_count": null,
   "metadata": {},
   "outputs": [],
   "source": [
    "def convolve_demo(signal, kernel):\n",
    "    ksize = len(kernel)\n",
    "    convolved = np.correlate(signal, kernel)\n",
    "    def filter_step(i):\n",
    "        fig, ax = plt.subplots()\n",
    "        ax.plot(signal, label='signal')\n",
    "        ax.plot(convolved[:i+1], label='convolved')\n",
    "        ax.legend()\n",
    "        ax.scatter(np.arange(i, i+ksize),\n",
    "                   signal[i : i+ksize])\n",
    "        ax.scatter(i, convolved[i])\n",
    "    return filter_step\n",
    "\n",
    "from ipywidgets import interact, widgets\n",
    "\n",
    "i_slider = widgets.IntSlider(min=0, max=len(noisy_signal) - 3,\n",
    "                             value=0)\n",
    "\n",
    "interact(convolve_demo(noisy_signal, mean_kernel3),\n",
    "         i=i_slider);"
   ]
  },
  {
   "cell_type": "code",
   "execution_count": null,
   "metadata": {},
   "outputs": [],
   "source": [
    "mean_kernel11 = np.full((11,), 1/11)\n",
    "smooth_signal11 = np.convolve(noisy_signal, mean_kernel11,\n",
    "                              mode='valid')\n",
    "fig, ax = plt.subplots()\n",
    "ax.plot(smooth_signal11);"
   ]
  },
  {
   "cell_type": "code",
   "execution_count": null,
   "metadata": {},
   "outputs": [],
   "source": [
    "i_slider = widgets.IntSlider(min=0, max=len(noisy_signal) - 11,\n",
    "                             value=0)\n",
    "\n",
    "interact(convolve_demo(noisy_signal, mean_kernel11),\n",
    "         i=i_slider);"
   ]
  },
  {
   "cell_type": "code",
   "execution_count": null,
   "metadata": {},
   "outputs": [],
   "source": [
    "smooth_signal3same = np.convolve(noisy_signal, mean_kernel3,\n",
    "                                 mode='same')\n",
    "smooth_signal11same = np.convolve(noisy_signal, mean_kernel11,\n",
    "                                  mode='same')\n",
    "\n",
    "fig, ax = plt.subplots(1, 2)\n",
    "ax[0].plot(smooth_signal3p)\n",
    "ax[0].plot(smooth_signal11)\n",
    "ax[0].set_title('mode=valid')\n",
    "ax[1].plot(smooth_signal3same)\n",
    "ax[1].plot(smooth_signal11same)\n",
    "ax[1].set_title('mode=same');"
   ]
  },
  {
   "cell_type": "code",
   "execution_count": null,
   "metadata": {},
   "outputs": [],
   "source": [
    "def convolve_demo_same(signal, kernel):\n",
    "    ksize = len(kernel)\n",
    "    padded_signal = np.pad(signal, ksize // 2,\n",
    "                           mode='constant')\n",
    "    convolved = np.correlate(padded_signal, kernel)\n",
    "    def filter_step(i):\n",
    "        fig, ax = plt.subplots()\n",
    "        x = np.arange(-ksize // 2,\n",
    "                      len(signal) + ksize // 2)\n",
    "        ax.plot(signal, label='signal')\n",
    "        ax.plot(convolved[:i+1], label='convolved')\n",
    "        ax.legend()\n",
    "        start, stop = i, i + ksize\n",
    "        ax.scatter(x[start:stop]+1,\n",
    "                   padded_signal[start : stop])\n",
    "        ax.scatter(i, convolved[i])\n",
    "        ax.set_xlim(-ksize // 2,\n",
    "                    len(signal) + ksize // 2)\n",
    "    return filter_step\n",
    "\n",
    "\n",
    "i_slider = widgets.IntSlider(min=0, max=len(noisy_signal)-1,\n",
    "                             value=0)\n",
    "\n",
    "interact(convolve_demo_same(noisy_signal, mean_kernel11),\n",
    "         i=i_slider);"
   ]
  },
  {
   "cell_type": "code",
   "execution_count": null,
   "metadata": {},
   "outputs": [],
   "source": [
    "fig, ax = plt.subplots()\n",
    "ax.plot(step_signal)\n",
    "ax.margins(y=0.1)"
   ]
  },
  {
   "cell_type": "code",
   "execution_count": null,
   "metadata": {},
   "outputs": [],
   "source": [
    "result_corr = np.correlate(step_signal, np.array([-1, 0, 1]),\n",
    "                           mode='valid')"
   ]
  },
  {
   "cell_type": "code",
   "execution_count": null,
   "metadata": {},
   "outputs": [],
   "source": [
    "result_conv = np.convolve(step_signal, np.array([-1, 0, 1]),\n",
    "                          mode='valid')"
   ]
  },
  {
   "cell_type": "code",
   "execution_count": null,
   "metadata": {},
   "outputs": [],
   "source": [
    "fig, ax = plt.subplots()\n",
    "ax.plot(step_signal, label='signal')\n",
    "ax.plot(result_conv, linestyle='dashed', label='convolved')\n",
    "ax.plot(result_corr, linestyle='dashed', label='correlated',\n",
    "        color='C3')\n",
    "ax.legend(loc='upper left')\n",
    "ax.margins(y=0.1)"
   ]
  },
  {
   "cell_type": "code",
   "execution_count": null,
   "metadata": {},
   "outputs": [],
   "source": [
    "noisy_change = np.correlate(noisy_signal, np.array([-1, 0, 1]))\n",
    "fig, ax = plt.subplots()\n",
    "ax.plot(noisy_signal, label='signal')\n",
    "ax.plot(noisy_change, linestyle='dashed', label='change')\n",
    "ax.legend(loc='upper left')\n",
    "ax.margins(0.1)"
   ]
  },
  {
   "cell_type": "code",
   "execution_count": null,
   "metadata": {},
   "outputs": [],
   "source": [
    "mean_diff = np.correlate([-1, 0, 1], [1/3, 1/3, 1/3], mode='full')\n",
    "print(mean_diff)"
   ]
  },
  {
   "cell_type": "code",
   "execution_count": null,
   "metadata": {},
   "outputs": [],
   "source": [
    "smooth_change = np.correlate(noisy_signal, mean_diff,\n",
    "                             mode='same')\n",
    "fig, ax = plt.subplots()\n",
    "ax.plot(noisy_signal, label='signal')\n",
    "ax.plot(smooth_change, linestyle='dashed', label='change')\n",
    "ax.margins(0.1)\n",
    "ax.hlines([-0.5, 0.5], 0, 100, linewidth=0.5, color='gray');"
   ]
  },
  {
   "cell_type": "code",
   "execution_count": null,
   "metadata": {},
   "outputs": [],
   "source": [
    "import numpy as np\n",
    "\n",
    "bright_square = np.zeros((7, 7), dtype=float)\n",
    "bright_square[2:5, 2:5] = 1\n",
    "print(bright_square)"
   ]
  },
  {
   "cell_type": "code",
   "execution_count": null,
   "metadata": {},
   "outputs": [],
   "source": [
    "fig, ax = plt.subplots()\n",
    "ax.imshow(bright_square);"
   ]
  },
  {
   "cell_type": "code",
   "execution_count": null,
   "metadata": {},
   "outputs": [],
   "source": [
    "mean_kernel = np.full((3, 3), 1/9)\n",
    "\n",
    "print(mean_kernel)"
   ]
  },
  {
   "cell_type": "code",
   "execution_count": null,
   "metadata": {},
   "outputs": [],
   "source": [
    "import scipy.ndimage as ndi\n",
    "\n",
    "%precision 2\n",
    "print(bright_square)\n",
    "print(ndi.correlate(bright_square, mean_kernel))"
   ]
  },
  {
   "cell_type": "code",
   "execution_count": null,
   "metadata": {},
   "outputs": [],
   "source": [
    "from skimage import color\n",
    "from scipy import ndimage as ndi\n",
    "from matplotlib import patches\n",
    "\n",
    "def mean_filter_demo(image, vmax=1):\n",
    "    mean_factor = 1.0 / 9.0  # This assumes a 3x3 kernel.\n",
    "    iter_kernel_and_subimage = iter_kernel(image)\n",
    "\n",
    "    image_cache = []\n",
    "\n",
    "    def mean_filter_step(i_step):\n",
    "        while i_step >= len(image_cache):\n",
    "            filtered = image if i_step == 0 else image_cache[-1][-1][-1]\n",
    "            filtered = filtered.copy()\n",
    "\n",
    "            (i, j), mask, subimage = next(iter_kernel_and_subimage)\n",
    "            filter_overlay = color.label2rgb(mask, image, bg_label=0,\n",
    "                                             colors=('cyan', 'red'))\n",
    "            filtered[i, j] = np.sum(mean_factor * subimage)\n",
    "            image_cache.append(((i, j), (filter_overlay, filtered)))\n",
    "\n",
    "        (i, j), images = image_cache[i_step]\n",
    "        fig, axes = plt.subplots(1, len(images), figsize=(10, 5))\n",
    "        \n",
    "        for ax, imc in zip(axes, images):\n",
    "            ax.imshow(imc, vmax=vmax)\n",
    "            rect = patches.Rectangle([j - 0.5, i - 0.5], 1, 1, color='yellow', fill=False)\n",
    "            ax.add_patch(rect)\n",
    "            \n",
    "        plt.show()\n",
    "    return mean_filter_step\n",
    "def mean_filter_interactive_demo(image):\n",
    "    from ipywidgets import IntSlider, interact\n",
    "    mean_filter_step = mean_filter_demo(image)\n",
    "    step_slider = IntSlider(min=0, max=image.size-1, value=0)\n",
    "    interact(mean_filter_step, i_step=step_slider)\n",
    "\n",
    "\n",
    "def iter_kernel(image, size=1):\n",
    "    \"\"\" Yield position, kernel mask, and image for each pixel in the image.\n",
    "\n",
    "    The kernel mask has a 2 at the center pixel and 1 around it. The actual\n",
    "    width of the kernel is 2*size + 1.\n",
    "    \"\"\"\n",
    "    width = 2*size + 1\n",
    "    for (i, j), pixel in iter_pixels(image):\n",
    "        mask = np.zeros(image.shape, dtype='int16')\n",
    "        mask[i, j] = 1\n",
    "        mask = ndi.grey_dilation(mask, size=width)\n",
    "        #mask[i, j] = 2\n",
    "        subimage = image[bounded_slice((i, j), image.shape[:2], size=size)]\n",
    "        yield (i, j), mask, subimage\n",
    "\n",
    "\n",
    "def iter_pixels(image):\n",
    "    \"\"\" Yield pixel position (row, column) and pixel intensity. \"\"\"\n",
    "    height, width = image.shape[:2]\n",
    "    for i in range(height):\n",
    "        for j in range(width):\n",
    "            yield (i, j), image[i, j]\n",
    "\n",
    "\n",
    "def bounded_slice(center, xy_max, size=1, i_min=0):\n",
    "    slices = []\n",
    "    for i, i_max in zip(center, xy_max):\n",
    "        slices.append(slice(max(i - size, i_min), min(i + size + 1, i_max)))\n",
    "    return tuple(slices)"
   ]
  },
  {
   "cell_type": "code",
   "execution_count": null,
   "metadata": {},
   "outputs": [],
   "source": [
    "mean_filter_interactive_demo(bright_square)"
   ]
  },
  {
   "cell_type": "code",
   "execution_count": null,
   "metadata": {},
   "outputs": [],
   "source": [
    "print(np.sum(mean_kernel))"
   ]
  },
  {
   "cell_type": "code",
   "execution_count": null,
   "metadata": {},
   "outputs": [],
   "source": [
    "from skimage import data\n",
    "\n",
    "image = data.camera()\n",
    "pixelated = image[::10, ::10]\n",
    "fig, (ax0, ax1) = plt.subplots(1, 2, figsize=(10, 5))\n",
    "ax0.imshow(image)\n",
    "ax1.imshow(pixelated) ;"
   ]
  },
  {
   "cell_type": "code",
   "execution_count": null,
   "metadata": {},
   "outputs": [],
   "source": [
    "from skimage import img_as_float\n",
    "\n",
    "def imshow_all(*images, titles=None):\n",
    "    images = [img_as_float(img) for img in images]\n",
    "\n",
    "    if titles is None:\n",
    "        titles = [''] * len(images)\n",
    "    vmin = min(map(np.min, images))\n",
    "    vmax = max(map(np.max, images))\n",
    "    ncols = len(images)\n",
    "    height = 5\n",
    "    width = height * len(images)\n",
    "    fig, axes = plt.subplots(nrows=1, ncols=ncols,\n",
    "                             figsize=(width, height))\n",
    "    for ax, img, label in zip(axes.ravel(), images, titles):\n",
    "        ax.imshow(img, vmin=vmin, vmax=vmax)\n",
    "        ax.set_title(label)"
   ]
  },
  {
   "cell_type": "code",
   "execution_count": null,
   "metadata": {},
   "outputs": [],
   "source": [
    "filtered = ndi.correlate(pixelated, mean_kernel)\n",
    "imshow_all(pixelated, filtered, titles=['pixelated', 'mean filtered'])"
   ]
  },
  {
   "cell_type": "code",
   "execution_count": null,
   "metadata": {},
   "outputs": [],
   "source": [
    "from skimage import filters\n",
    "\n",
    "smooth_mean = ndi.correlate(bright_square, mean_kernel)\n",
    "sigma = 1\n",
    "smooth = filters.gaussian(bright_square, sigma)\n",
    "imshow_all(bright_square, smooth_mean, smooth,\n",
    "           titles=['original', 'result of mean filter', 'result of gaussian filter'])"
   ]
  },
  {
   "cell_type": "code",
   "execution_count": null,
   "metadata": {},
   "outputs": [],
   "source": [
    "from skimage import img_as_float\n",
    "pixelated_float = img_as_float(pixelated)\n",
    "smooth = filters.gaussian(pixelated_float, sigma=1)\n",
    "imshow_all(pixelated_float, smooth)"
   ]
  },
  {
   "cell_type": "code",
   "execution_count": null,
   "metadata": {},
   "outputs": [],
   "source": [
    "size = 20\n",
    "structuring_element = np.ones((3*size, 3*size))\n",
    "smooth_mean = filters.rank.mean(image, structuring_element)\n",
    "smooth_gaussian = filters.gaussian(image, size)\n",
    "titles = ['mean', 'gaussian']\n",
    "imshow_all(smooth_mean, smooth_gaussian, titles=titles)"
   ]
  },
  {
   "cell_type": "code",
   "execution_count": null,
   "metadata": {},
   "outputs": [],
   "source": [
    "sidelen = 45\n",
    "sigma = (sidelen - 1) // 2 // 4\n",
    "spot = np.zeros((sidelen, sidelen), dtype=float)\n",
    "spot[sidelen // 2, sidelen // 2] = 1\n",
    "kernel = filters.gaussian(spot, sigma=sigma)\n",
    "\n",
    "imshow_all(spot, kernel / np.max(kernel))"
   ]
  },
  {
   "cell_type": "code",
   "execution_count": null,
   "metadata": {},
   "outputs": [],
   "source": [
    "vertical_kernel = np.array([\n",
    "    [-1],\n",
    "    [ 0],\n",
    "    [ 1],\n",
    "])\n",
    "\n",
    "gradient_vertical = ndi.correlate(pixelated.astype(float),\n",
    "                                  vertical_kernel)\n",
    "fig, ax = plt.subplots()\n",
    "ax.imshow(gradient_vertical);"
   ]
  },
  {
   "cell_type": "code",
   "execution_count": null,
   "metadata": {},
   "outputs": [],
   "source": [
    "imshow_all(bright_square, filters.sobel(bright_square))"
   ]
  },
  {
   "cell_type": "code",
   "execution_count": null,
   "metadata": {},
   "outputs": [],
   "source": [
    "pixelated_gradient = filters.sobel(pixelated)\n",
    "imshow_all(pixelated, pixelated_gradient)"
   ]
  },
  {
   "cell_type": "code",
   "execution_count": null,
   "metadata": {},
   "outputs": [],
   "source": [
    "gradient = filters.sobel(smooth)\n",
    "titles = ['gradient before smoothing', 'gradient after smoothing']\n",
    "imshow_all(pixelated_gradient, gradient*1.8, titles=titles)"
   ]
  },
  {
   "cell_type": "code",
   "execution_count": null,
   "metadata": {},
   "outputs": [],
   "source": [
    "target = (filters.sobel_h(image) > 0.07)\n",
    "imshow_all(image, target, titles=['source', 'target'])"
   ]
  },
  {
   "cell_type": "code",
   "execution_count": null,
   "metadata": {},
   "outputs": [],
   "source": [
    "from skimage.morphology import disk\n",
    "neighborhood = disk(radius=1)  \n",
    "median = filters.rank.median(pixelated, neighborhood)\n",
    "titles = ['image', 'gaussian', 'median']\n",
    "imshow_all(pixelated, smooth, median, titles=titles)"
   ]
  },
  {
   "cell_type": "code",
   "execution_count": null,
   "metadata": {},
   "outputs": [],
   "source": [
    "neighborhood = disk(10)\n",
    "coins = data.coins()\n",
    "mean_coin = filters.rank.mean(coins, neighborhood)\n",
    "median_coin = filters.rank.median(coins, neighborhood)\n",
    "titles = ['image', 'mean', 'median']\n",
    "imshow_all(coins, mean_coin, median_coin, titles=titles)"
   ]
  },
  {
   "cell_type": "code",
   "execution_count": null,
   "metadata": {},
   "outputs": [],
   "source": [
    "%matplotlib inline\n",
    "%config InlineBackend.figure_format = 'retina'"
   ]
  },
  {
   "cell_type": "code",
   "execution_count": null,
   "metadata": {},
   "outputs": [],
   "source": [
    "import numpy as np\n",
    "import matplotlib.pyplot as plt\n",
    "\n",
    "import skimage.data as data\n",
    "import skimage.segmentation as seg\n",
    "from skimage import filters\n",
    "from skimage import draw\n",
    "from skimage import color\n",
    "from skimage import exposure\n",
    "\n",
    "\n",
    "def image_show(image, nrows=1, ncols=1, cmap='gray', **kwargs):\n",
    "    fig, ax = plt.subplots(nrows=nrows, ncols=ncols, figsize=(16, 16))\n",
    "    ax.imshow(image, cmap='gray')\n",
    "    ax.axis('off')\n",
    "    return fig, ax"
   ]
  },
  {
   "cell_type": "code",
   "execution_count": null,
   "metadata": {},
   "outputs": [],
   "source": [
    "text = data.page()\n",
    "\n",
    "image_show(text);"
   ]
  },
  {
   "cell_type": "code",
   "execution_count": null,
   "metadata": {},
   "outputs": [],
   "source": [
    "fig, ax = plt.subplots(1, 1)\n",
    "ax.hist(text.ravel(), bins=256, range=[0, 255])\n",
    "ax.set_xlim(0, 256);"
   ]
  },
  {
   "cell_type": "code",
   "execution_count": null,
   "metadata": {},
   "outputs": [],
   "source": [
    "astronaut = data.astronaut()\n",
    "image_show(astronaut);"
   ]
  },
  {
   "cell_type": "code",
   "execution_count": null,
   "metadata": {},
   "outputs": [],
   "source": [
    "astronaut_gray = color.rgb2gray(astronaut)\n",
    "image_show(astronaut_gray);"
   ]
  },
  {
   "cell_type": "code",
   "execution_count": null,
   "metadata": {},
   "outputs": [],
   "source": [
    "def circle_points(resolution, center, radius):\n",
    "    \"\"\"Generate points defining a circle on an image.\"\"\"\n",
    "    radians = np.linspace(0, 2*np.pi, resolution)\n",
    "\n",
    "    c = center[1] + radius*np.cos(radians)\n",
    "    r = center[0] + radius*np.sin(radians)\n",
    "    \n",
    "    return np.array([c, r]).T\n",
    "\n",
    "points = circle_points(200, [100, 220], 100)[:-1]"
   ]
  },
  {
   "cell_type": "code",
   "execution_count": null,
   "metadata": {},
   "outputs": [],
   "source": [
    "snake = seg.active_contour(astronaut_gray, points)"
   ]
  },
  {
   "cell_type": "code",
   "execution_count": null,
   "metadata": {},
   "outputs": [],
   "source": [
    "fig, ax = image_show(astronaut)\n",
    "ax.plot(points[:, 0], points[:, 1], '--r', lw=3)\n",
    "ax.plot(snake[:, 0], snake[:, 1], '-b', lw=3);"
   ]
  },
  {
   "cell_type": "code",
   "execution_count": null,
   "metadata": {},
   "outputs": [],
   "source": [
    "astronaut_labels = np.zeros(astronaut_gray.shape, dtype=np.uint8)"
   ]
  },
  {
   "cell_type": "code",
   "execution_count": null,
   "metadata": {},
   "outputs": [],
   "source": [
    "indices = draw.circle_perimeter(100, 220, 25)\n",
    "\n",
    "astronaut_labels[indices] = 1\n",
    "astronaut_labels[points[:, 1].astype(np.int), points[:, 0].astype(np.int)] = 2\n",
    "\n",
    "image_show(astronaut_labels);"
   ]
  },
  {
   "cell_type": "code",
   "execution_count": null,
   "metadata": {},
   "outputs": [],
   "source": [
    "astronaut_segmented = seg.random_walker(astronaut_gray, astronaut_labels)"
   ]
  },
  {
   "cell_type": "code",
   "execution_count": null,
   "metadata": {},
   "outputs": [],
   "source": [
    "fig, ax = image_show(astronaut_gray)\n",
    "ax.imshow(astronaut_segmented == 1, alpha=0.3);"
   ]
  },
  {
   "cell_type": "code",
   "execution_count": null,
   "metadata": {},
   "outputs": [],
   "source": [
    "astronaut_slic = seg.slic(astronaut)"
   ]
  },
  {
   "cell_type": "code",
   "execution_count": null,
   "metadata": {},
   "outputs": [],
   "source": [
    "image_show(color.label2rgb(astronaut_slic, astronaut, kind='avg'));"
   ]
  },
  {
   "cell_type": "code",
   "execution_count": null,
   "metadata": {},
   "outputs": [],
   "source": [
    "chan_vese = seg.chan_vese(astronaut_gray)"
   ]
  },
  {
   "cell_type": "code",
   "execution_count": null,
   "metadata": {},
   "outputs": [],
   "source": [
    "\n",
    "fig, ax = image_show(astronaut_gray)\n",
    "ax.imshow(chan_vese == 0, alpha=0.3);"
   ]
  },
  {
   "cell_type": "code",
   "execution_count": null,
   "metadata": {},
   "outputs": [],
   "source": [
    "astronaut_felzenszwalb = seg.felzenszwalb(astronaut)"
   ]
  },
  {
   "cell_type": "code",
   "execution_count": null,
   "metadata": {},
   "outputs": [],
   "source": [
    "image_show(astronaut_felzenszwalb);"
   ]
  },
  {
   "cell_type": "code",
   "execution_count": null,
   "metadata": {},
   "outputs": [],
   "source": [
    "import skimage.future.graph as graph\n",
    "\n",
    "rag = graph.rag_mean_color(astronaut, astronaut_felzenszwalb + 1)"
   ]
  },
  {
   "cell_type": "code",
   "execution_count": null,
   "metadata": {},
   "outputs": [],
   "source": [
    "import skimage.measure as measure\n",
    "\n",
    "regions = measure.regionprops(astronaut_felzenszwalb + 1)  \n",
    "\n",
    "for region in regions:\n",
    "    rag.nodes[region['label']]['centroid'] = region['centroid']"
   ]
  },
  {
   "cell_type": "code",
   "execution_count": null,
   "metadata": {},
   "outputs": [],
   "source": [
    "def display_edges(image, g, threshold):\n",
    "    \"\"\"Draw edges of a RAG on its image\n",
    " \n",
    "    Returns a modified image with the edges drawn.Edges are drawn in green\n",
    "    and nodes are drawn in yellow.\n",
    " \n",
    "    Parameters\n",
    "    ----------\n",
    "    image : ndarray\n",
    "        The image to be drawn on.\n",
    "    g : RAG\n",
    "        The Region Adjacency Graph.\n",
    "    threshold : float\n",
    "        Only edges in `g` below `threshold` are drawn.\n",
    " \n",
    "    Returns:\n",
    "    out: ndarray\n",
    "        Image with the edges drawn.\n",
    "    \"\"\"\n",
    "    image = image.copy()\n",
    "    for edge in g.edges():\n",
    "        n1, n2 = edge\n",
    " \n",
    "        r1, c1 = map(int, rag.nodes[n1]['centroid'])\n",
    "        r2, c2 = map(int, rag.nodes[n2]['centroid'])\n",
    " \n",
    "        line  = draw.line(r1, c1, r2, c2)\n",
    "        circle = draw.circle(r1,c1,2)\n",
    " \n",
    "        if g[n1][n2]['weight'] < threshold :\n",
    "            image[line] = 0,255,0\n",
    "        image[circle] = 255,255,0\n",
    " \n",
    "    return image"
   ]
  },
  {
   "cell_type": "code",
   "execution_count": null,
   "metadata": {},
   "outputs": [],
   "source": [
    "edges_drawn_all = display_edges(astronaut_felzenszwalb_colored, rag, np.inf)\n",
    "image_show(edges_drawn_all);"
   ]
  },
  {
   "cell_type": "code",
   "execution_count": null,
   "metadata": {},
   "outputs": [],
   "source": [
    "final_labels = graph.cut_threshold(astronaut_felzenszwalb + 1, rag, threshold)\n",
    "final_label_rgb = color.label2rgb(final_labels, astronaut, kind='avg')\n",
    "\n",
    "image_show(final_label_rgb);"
   ]
  },
  {
   "cell_type": "code",
   "execution_count": null,
   "metadata": {},
   "outputs": [],
   "source": [
    "np.unique(final_labels).size"
   ]
  },
  {
   "cell_type": "code",
   "execution_count": null,
   "metadata": {},
   "outputs": [],
   "source": []
  }
 ],
 "metadata": {
  "kernelspec": {
   "display_name": "Python 3",
   "language": "python",
   "name": "python3"
  },
  "language_info": {
   "codemirror_mode": {
    "name": "ipython",
    "version": 3
   },
   "file_extension": ".py",
   "mimetype": "text/x-python",
   "name": "python",
   "nbconvert_exporter": "python",
   "pygments_lexer": "ipython3",
   "version": "3.7.0"
  }
 },
 "nbformat": 4,
 "nbformat_minor": 2
}
